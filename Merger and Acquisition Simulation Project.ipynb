{
 "cells": [
  {
   "cell_type": "markdown",
   "id": "7e868fac",
   "metadata": {},
   "source": [
    "# Merger and Acquisition Simulation Model\n",
    "\n",
    "Date: February 23rd, 2020\n",
    "\n",
    "Author: Armand Tossou\n",
    "\n",
    "## Purpose  \n",
    "\n",
    "The purpose of this project is to simulate the process of merger and acquisition (i.e., M&A) between three firms and project their ex-post market valuation, as well as the resulting margin from the operation. Merger  simulation  models  predict  post-merger  prices  based  on  information  about  a  set  of  pre-merger  market  conditions  and  certain  assumptions  about  the behavior of the firms in the relevant market.\n",
    "\n",
    "This project replicates the analysis in the seminal M&A paper by __Rubinfeld and Epstein (2001)__. Below is the full reference of the paper:\n",
    "\n",
    "    Rubinfeld, Daniel L., and Roy J. Epstein. \"Merger simulation: A simplified approach with new applications.\" (2001).\n",
    "    Link: https://escholarship.org/uc/item/2sq9s8c8\n",
    "\n",
    "\n",
    "## Methodology  \n",
    "\n",
    "Rubinfeld and Epstein (2001) introduced PCAIDS, a highly flexible \"calibrated-demand\" merger simulation methodology that is based on a simplified version of AIDS. PCAIDS can be implemented using market shares and two price elasticities; scanner or transaction-level data are not required. \n",
    "\n",
    "The advantage of this approach is that the model can be calibrated with relatively little information. In particular, we need to know the following:  \n",
    "- the market shares of the firms in the relevant market;  \n",
    "- elasticity of market demand;  \n",
    "- own price elasticity for one firm; and\n",
    "- efficiency gains (claimed by firms).\n",
    "\n",
    "Once, we know these things, we can simulate the market outcome before and after the merger. If we do not know one or more parameters, we can do sensitivity analysis: simply let the parameter run over a vector of values.\n",
    "\n",
    "## Assumptions  \n",
    "\n",
    "Every model makes some assumptions on which the validity of its outcome depends. Therefore, predictions from the model need to be interpreted within this context. This model relies on the following set of three assumptions:  \n",
    "- _Proportionality_: if a firm raises its price, it loses market share; this lost market share is allocated to the other firms in the industry proportionally to these firms’ market shares;  \n",
    "- _Homogeneity_: if all firms in the market raise their price by the same percentage, market shares are unaffected\n",
    "- _Adding-up_: market shares of all firms (brands) in the market add up to 1.\n",
    "\n",
    "The rest of the project will be organized as follows:  \n",
    "1. First, we'll import all the necessary Python packages for our analysis;  \n",
    "2. We'll formulate the _demand_ function to be used to measure each firm's market share;  \n",
    "3. We'll calibrate the model; and  \n",
    "4. We'll estimate the model, by replicating the example in Table 1 on page 895 of Epstein and Rubinfeld (2001)."
   ]
  },
  {
   "cell_type": "markdown",
   "id": "ac5840d6",
   "metadata": {},
   "source": [
    "## Importing Python libraries"
   ]
  },
  {
   "cell_type": "code",
   "execution_count": 1,
   "id": "ebadd01f",
   "metadata": {},
   "outputs": [],
   "source": [
    "from scipy import optimize,arange\n",
    "from numpy import array\n",
    "import matplotlib.pyplot as plt\n",
    "from math import log\n",
    "%matplotlib inline"
   ]
  },
  {
   "cell_type": "markdown",
   "id": "5ca257d0",
   "metadata": {},
   "source": [
    "## Demand  function\n",
    "\n",
    "Let's suppose Firm 1, Firm 2 and Firm 3 are contemplating an M&A. One Firm (i.e., Firm 3) absorbs the other two; that Firm does not merge. \n",
    "\n",
    "First, we define the market share of firm $i$ as follows defined as:  \n",
    "\n",
    "$ s_i = \\frac{p_i * q_i}{P * Q} $\n",
    "\n",
    "where:  \n",
    "- $p_i$ represents the firm’s price;  \n",
    "- $q_i$ denotes its quantity;  \n",
    "- $Q$ is the total output on the market; and \n",
    "- $P$ denotes its aggregate industry price index. \n",
    "\n",
    "Next, we assume that this price index is given by the following formula: \n",
    "\n",
    "$ln(P) = \\sum_{i=1}^3 = s_i ln(p_i)$\n",
    "\n",
    "Therefore, we can write Firm i’s demand in this model in terms of its market share as:\n",
    "\n",
    "(D) $$\\begin{aligned}\n",
    "s_i = a_i + b_{ii} ln(p_i) + b_{ij} ln(p_j) + b_{ik} ln(p_k)\n",
    "\\end{aligned}$$\n",
    "\n",
    "where $a$ and $b$ are parameters to be estimated."
   ]
  },
  {
   "cell_type": "markdown",
   "id": "1cbf0fbb",
   "metadata": {},
   "source": [
    "## Model calibration  considerations\n",
    "\n",
    "As proven by Rubinfeld and Epstein (2001), this demand function has the following useful property. \n",
    "\n",
    "Assuming we know:  \n",
    "1. The market demand elasticity: $\\varepsilon = \\frac{\\partial ln(Q)}{\\partial ln(P)} $;  \n",
    "2. Each firm's own price elasticity $\\varepsilon_{ii} = \\frac{\\partial ln(q_i)}{\\partial ln(p_i)} $; and  \n",
    "3. The market shares: $s_i \\geq 0$ for Firm $i = 1, \\cdots, n$, with $\\sum_{i=1}^n = 1$.\n",
    "\n",
    "Given the above, if we are willing to assume $(P)$, $(H)$ and $(A)$, then we know all coefficients $b_{ij}$ and demand elasticities $\\varepsilon_{ij}$.  \n",
    "\n",
    "One way to find Firm $i$’s own price elasticity is to estimate its price cost margin, $\\mu_i$. Since firms set their price (i.e., cost margin) satisfying $\\mu_i = \\frac{−1}{\\varepsilon_{ii}}$, we know $\\varepsilon_{ii}$ if we know the price cost margin.\n",
    "\n",
    "NOTE: Also, if we don't know a parameter very well, then we can define an interval for it and do the merger simulation for each value in the interval. This will give us a good idea of how sensitive the simulation is for the value of this parameter."
   ]
  },
  {
   "cell_type": "markdown",
   "id": "c1e7e781",
   "metadata": {},
   "source": [
    "## Model estimation  \n",
    "\n",
    "We estimate the model, by replicating the example in Table 1 on page 895 of Epstein and Rubinfeld (2001)."
   ]
  },
  {
   "cell_type": "code",
   "execution_count": 2,
   "id": "d2404e99",
   "metadata": {},
   "outputs": [],
   "source": [
    "# Define a Python class. We use it to below to get decent tables with results in the notebook.\n",
    "\n",
    "class ListTable(list):\n",
    "    \"\"\" Overridden list class which takes a 2-dimensional list of\n",
    "        the form [[1,2,3],[4,5,6]], and renders an HTML Table in\n",
    "        IPython Notebook. \"\"\"\n",
    "\n",
    "    def _repr_html_(self):\n",
    "        html = [\"<table>\"]\n",
    "        for row in self:\n",
    "            html.append(\"<tr>\")\n",
    "\n",
    "            for col in row:\n",
    "                html.append(\"<td>{0}</td>\".format(col))\n",
    "\n",
    "            html.append(\"</tr>\")\n",
    "        html.append(\"</table>\")\n",
    "        return ''.join(html)"
   ]
  },
  {
   "cell_type": "markdown",
   "id": "ba026889",
   "metadata": {},
   "source": [
    "We create Python dictionaries for each Firm’s market share and elasticity, such that we can refer to Firm $i$’s market share as `market_share['firmi']`. Also, we check that the market shares are all between 0 and 1. Further, a Firm’s own price elasticity is always larger (in absolute value) than the demand elasticity. Indeed, when a firm raises its price by 1%, a consumer can either not buy the product at all or buy it from another firm.\n",
    "\n",
    "The price elasticity equations are derived in the paper:\n",
    "\n",
    "(E) $$\\begin{aligned}\n",
    "    e_{ij} = \n",
    "    \\begin{cases}\n",
    "-1 + \\frac{b_{ii}}{s_i} + s_i * (\\varepsilon + 1), \\;\\;  & \\text{if i=j} \\\\ \\frac{b_{ij}}{s_i} + s_j * (\\varepsilon + 1), \\;\\;  & \\text{otherwise}. \n",
    "    \\end{cases}\n",
    "   \\end{aligned}$$\n",
    "\n",
    "<font color='red'> IMPORTANT: </font> In this example, we assign 20%, 30%  and 50% market shares, respectively, for Firm 1, Firm 2 and Firm 3."
   ]
  },
  {
   "cell_type": "code",
   "execution_count": 3,
   "id": "8770a8ed",
   "metadata": {},
   "outputs": [
    {
     "name": "stdout",
     "output_type": "stream",
     "text": [
      "market share of firm: firm1 is given by 0.20\n",
      "market share of firm: firm2 is given by 0.30\n",
      "market share of firm: firm3 is given by 0.50\n"
     ]
    }
   ],
   "source": [
    "market_share = {} # creates a dictionary with market shares\n",
    "elasticity = {}   # dictionaries of firm level own and cross elasticities\n",
    "\n",
    "firms = ['firm1','firm2','firm3'] # names of the firms in a python list\n",
    "market_share['firm2'] = 0.3\n",
    "market_share['firm3'] = 0.5\n",
    "market_share['firm1'] = 1 - sum(market_share[firm] for firm in ['firm2','firm3'])\n",
    "\n",
    "for firm in firms:\n",
    "    if (market_share[firm] >= 0 and market_share[firm] <= 1):\n",
    "        print(\"market share of firm: \"+ firm + \" is given by %1.2f\" % market_share[firm])\n",
    "    else: print(\"something wrong with the market share of the firm: \"+firm)\n",
    "\n",
    "market_elasticity = -1.0 # market demand elasticity\n",
    "elasticity['firm1','firm1'] = -3.0 # own elasticity of firm1\n",
    "\n",
    "if market_elasticity < elasticity['firm1','firm1']:\n",
    "    print(\"error: a firm's own elasticity exceeds (in absolute value) the market elasticity\")"
   ]
  },
  {
   "cell_type": "markdown",
   "id": "f49526cc",
   "metadata": {},
   "source": [
    "Now we can calculate the relevant parameters of the demand structure (see the paper for the derivation of these expressions). We create a dictionary to store the $b_{ij}$ coefficients in demand system (D) above. With the $b_{ij}$’s, we calculate the firm level (i.e., own and cross) elasticities $\\varepsilon_{ij}$. The assumption is that the $b_{ij}$ coefficients are exogenous (i.e., they don't change after the merger). As the merger affects firms’ market shares, it does change the firm elasticities. "
   ]
  },
  {
   "cell_type": "code",
   "execution_count": 4,
   "id": "18d55387",
   "metadata": {},
   "outputs": [
    {
     "name": "stdout",
     "output_type": "stream",
     "text": [
      "table of b coefficients:\n"
     ]
    },
    {
     "data": {
      "text/html": [
       "<table><tr><td>b-coeff.</td><td>firm1</td><td>firm2</td><td>firm3</td></tr><tr><td>firm1</td><td>-0.400</td><td>0.150</td><td>0.250</td></tr><tr><td>firm2</td><td>0.150</td><td>-0.525</td><td>0.375</td></tr><tr><td>firm3</td><td>0.250</td><td>0.375</td><td>-0.625</td></tr></table>"
      ],
      "text/plain": [
       "[['b-coeff.', 'firm1', 'firm2', 'firm3'],\n",
       " ['firm1', '-0.400', '0.150', '0.250'],\n",
       " ['firm2', '0.150', '-0.525', '0.375'],\n",
       " ['firm3', '0.250', '0.375', '-0.625']]"
      ]
     },
     "execution_count": 4,
     "metadata": {},
     "output_type": "execute_result"
    }
   ],
   "source": [
    "b = {} # dictionary of b-coefficients of demand system (D) above\n",
    "b['firm1','firm1'] = market_share['firm1']*(elasticity['firm1','firm1']+1-market_share['firm1']*(market_elasticity+1))\n",
    "\n",
    "for firm in firms:\n",
    "    b[firm,firm]=(market_share[firm]*(1-market_share[firm]))/(market_share['firm1']*(1-market_share['firm1']))*b['firm1','firm1']\n",
    "\n",
    "for one_firm in firms:\n",
    "    for other_firm in firms:\n",
    "        if one_firm == other_firm:\n",
    "            b[one_firm,one_firm]=(market_share[one_firm]*(1-market_share[one_firm]))/(market_share['firm1']*(1-market_share['firm1']))*b['firm1','firm1']\n",
    "        else:\n",
    "            b[one_firm,other_firm] = - market_share[one_firm]/(1-market_share[other_firm])*b[other_firm,other_firm]\n",
    "\n",
    "for one_firm in firms:\n",
    "    for other_firm in firms:\n",
    "        if one_firm == other_firm:\n",
    "            elasticity[one_firm,one_firm] = -1 + b[one_firm,one_firm]/market_share[one_firm]+market_share[one_firm]*(market_elasticity+1)\n",
    "        else:\n",
    "            elasticity[one_firm,other_firm] = b[one_firm,other_firm]/market_share[one_firm]+market_share[other_firm]*(market_elasticity+1)\n",
    "\n",
    "table = ListTable()\n",
    "table.append(['b-coeff.', 'firm1','firm2','firm3'])\n",
    "for one_firm in firms:\n",
    "    row = []\n",
    "    row.append(one_firm)\n",
    "    for other_firm in firms:\n",
    "        row.append(\"%0.3f\" % b[one_firm,other_firm])\n",
    "    table.append(row)\n",
    "print(\"table of b coefficients:\")\n",
    "\n",
    "table"
   ]
  },
  {
   "cell_type": "markdown",
   "id": "5616738a",
   "metadata": {},
   "source": [
    "Now, let's get the elasticities:"
   ]
  },
  {
   "cell_type": "code",
   "execution_count": 5,
   "id": "e67f69af",
   "metadata": {},
   "outputs": [
    {
     "name": "stdout",
     "output_type": "stream",
     "text": [
      "table of elasticities:\n"
     ]
    },
    {
     "data": {
      "text/html": [
       "<table><tr><td>elast.</td><td>firm1</td><td>firm2</td><td>firm3</td></tr><tr><td>firm1</td><td>-3.000</td><td>0.750</td><td>1.250</td></tr><tr><td>firm2</td><td>0.500</td><td>-2.750</td><td>1.250</td></tr><tr><td>firm3</td><td>0.500</td><td>0.750</td><td>-2.250</td></tr></table>"
      ],
      "text/plain": [
       "[['elast.', 'firm1', 'firm2', 'firm3'],\n",
       " ['firm1', '-3.000', '0.750', '1.250'],\n",
       " ['firm2', '0.500', '-2.750', '1.250'],\n",
       " ['firm3', '0.500', '0.750', '-2.250']]"
      ]
     },
     "execution_count": 5,
     "metadata": {},
     "output_type": "execute_result"
    }
   ],
   "source": [
    "table = ListTable()\n",
    "table.append(['elast.', 'firm1','firm2','firm3'])\n",
    "for one_firm in firms:\n",
    "    row = []\n",
    "    row.append(one_firm)\n",
    "    for other_firm in firms:\n",
    "        row.append(\"%0.3f\" % elasticity[one_firm,other_firm])\n",
    "    table.append(row)\n",
    "print(\"table of elasticities:\")\n",
    "\n",
    "table"
   ]
  },
  {
   "cell_type": "markdown",
   "id": "c1f08734",
   "metadata": {},
   "source": [
    "A profit maximizing Firm $i$ sets its margin equal to $\\mu_i = \\frac{−1}{e_{ii}}$. This can be derived as follows. A firm chooses its price level $p_i$ to maximize profits:\n",
    "\n",
    "$$\\begin{aligned}\n",
    "\\pi = p_i q_i(p_i,p_{-i}) - c_i(q_i(p_i,p_{-i}))\n",
    "\\end{aligned}$$\n",
    "\n",
    "First order condition are then:  \n",
    "\n",
    "$$\\begin{aligned}\n",
    "q_i + (p_i - c_q) \\frac{\\partial q_i}{\\partial p_i} = 0\n",
    "\\end{aligned}$$\n",
    "\n",
    "With further rearrangement, we get:  \n",
    "\n",
    "$$\\begin{aligned}\n",
    "\\mu_i = \\frac{p_i c_q}{p_i} = \\frac{dp_i * q_i}{dq_i * p_1} = \\frac{-1}{e_{ii}}\n",
    "\\end{aligned}$$\n",
    "\n",
    "Hence we can calculate the margin for each Firm as follows:"
   ]
  },
  {
   "cell_type": "code",
   "execution_count": 6,
   "id": "a8875a04",
   "metadata": {},
   "outputs": [],
   "source": [
    "margin = {}\n",
    "for firm in firms:\n",
    "    margin[firm] = -1.0/elasticity[firm,firm]"
   ]
  },
  {
   "cell_type": "markdown",
   "id": "23c4c68c",
   "metadata": {},
   "source": [
    "The paper shows that the ex-post merger outcome in terms of market share, $s^p_j$, price cost margin, $\\mu^p_j$, and price change $\\sigma_j = \\frac {p^p_j − p_j}{p_j}$ (9 variables with 3 Firms) satisfies the following 9 equations, where the efficiency gain is defined as:\n",
    "\n",
    "$$\\begin{aligned}\n",
    "\\gamma_i = \\frac{c^p_i - c_i}{c_i}\n",
    "\\end{aligned}$$\n",
    "\n",
    "$\\gamma_i$ is the percentage change in Firm $i$’s costs $c_i$ due to the merger.\n",
    "\n",
    "Further, we have the elasticity equations (E) above with post-merger market shares, denoted $s^p_j$.\n",
    "\n",
    "Details are in the paper. The following is a sketch of the proof of the equation ebove. The equation for $s^p_i$ follows from writing the (D) equations for both $s_i$ (as above) and for $s^p_i$. Then, we take the difference of these equations and note that $1 + \\delta_i=\\frac{p^p_i}{p_i}$ and $ln(p^p_i)−ln(p_i)=ln(1+\\delta_i)$.\n",
    "\n",
    "For the non merging firm we have $\\mu_3 = \\frac{−1}{e^p_{33}}$ as before. Now, consider the first order condition for $p_j$ for the merged firm (consisting of $j$ and $k$):\n",
    "\n",
    "$$\\begin{aligned}\n",
    "\\frac{\\partial q_j}{\\partial p_j}(p_j - c_j) + q_j + \\frac{\\partial q_k}{\\partial p_j}(p_k - c_k)\n",
    "\\end{aligned}$$\n",
    "\n",
    "which can be re-written as:\n",
    "\n",
    "$$\\begin{aligned}\n",
    "s^p_j = -\\varepsilon^p_{ii} s^p_j \\mu^p_j - \\varepsilon^p_{kj} s^p_k \\mu^p_k\n",
    "\\end{aligned}$$\n",
    "\n",
    "Finally, the expression for $\\mu^p_i$ follows from the definitions of $\\gamma_i$, $\\delta_i$ and $\\mu_i$."
   ]
  },
  {
   "cell_type": "code",
   "execution_count": 7,
   "id": "cd8c53ba",
   "metadata": {},
   "outputs": [],
   "source": [
    "merging_firms = ['firm1','firm2']                      # list of the merging firms\n",
    "nonmerging_firms = list(set(firms)-set(merging_firms)) # list of non-merging firms\n",
    "efficiency_gains = {} # dictionary with efficiency gains --due to the merger-- for the firms\n",
    "for firm in merging_firms:\n",
    "    efficiency_gains[firm] = 0.0\n",
    "for firm in nonmerging_firms:\n",
    "    efficiency_gains[firm] = 0.0"
   ]
  },
  {
   "cell_type": "markdown",
   "id": "67ccd044",
   "metadata": {},
   "source": [
    "We create Python dictionaries for post merger market shares ($s^p_i$), elasticities ($e^p_{ij}$), margins ($\\mu^p_i$) and price changes ($\\delta_i$). Then we create a vector function with all the equations above. We solve for the values of $s^p_i$, $e^p_{ij}$, $\\mu^p_i$, and $\\delta_i$ such that this vector function equals zero (all equations are satisfied).\n",
    "\n",
    "We form a list of equations and append it with new equations. For a given guess of the values $s^p_i$, $e^p_{ij}$, $\\mu^p_i$, and $\\delta_i$ equations returns the extent to which the equations are satisfied. If equations=0, all equations are satisfied and we find the post merger equilibrium."
   ]
  },
  {
   "cell_type": "code",
   "execution_count": 8,
   "id": "71ea89ac",
   "metadata": {},
   "outputs": [],
   "source": [
    "post_marketshare = {}\n",
    "post_elasticity = {}\n",
    "post_margin = {}\n",
    "price_change = {}\n",
    "\n",
    "def vector_function(post_marketshare,post_elasticity,post_margin,price_change):\n",
    "    equations = []\n",
    "    for firm in sorted(firms):\n",
    "        equations.append(post_marketshare[firm]-(market_share[firm]+sum([b[firm,other_firm]*log(1+price_change[other_firm]) for other_firm in firms])))\n",
    "        equations.append(post_margin[firm] - (1-(1+efficiency_gains[firm])/(1+price_change[firm])*(1-margin[firm])))\n",
    "    for firm in sorted(nonmerging_firms):\n",
    "        equations.append(post_margin[firm] + 1/post_elasticity[firm,firm])\n",
    "        equations.append(post_elasticity[firm,firm] - (-1 + b[firm,firm]/post_marketshare[firm]+post_marketshare[firm]*(market_elasticity+1)))\n",
    "    for firm in sorted(merging_firms):\n",
    "        equations.append(post_marketshare[firm]+sum(post_elasticity[other_firm,firm]*post_marketshare[other_firm]*post_margin[other_firm] for other_firm in sorted(merging_firms)))\n",
    "        for other_firm in sorted(merging_firms):\n",
    "            equations.append(post_elasticity[firm,other_firm] - (-(firm==other_firm) + b[firm,other_firm]/post_marketshare[firm]+post_marketshare[other_firm]*(market_elasticity+1)))\n",
    "    return equations"
   ]
  },
  {
   "cell_type": "markdown",
   "id": "907ddd89",
   "metadata": {},
   "source": [
    "As the solver works with a vector $x$ for the values (not a collection of dictionaries), we define a wrapper function which turns $x$ to the values in the dictionaries. Once we have the solution $x$, we ‘un-wrap’ it into values for our dictionaries."
   ]
  },
  {
   "cell_type": "code",
   "execution_count": 9,
   "id": "081770b8",
   "metadata": {},
   "outputs": [],
   "source": [
    "def wrapper_function(x): # the solver used below needs a vector x as input, not a collection of dictionaries\n",
    "    counter = 0\n",
    "    for dict in [post_marketshare,post_margin,price_change]:\n",
    "        for firm in sorted(firms):\n",
    "            dict[firm] = x[counter]\n",
    "            counter +=1\n",
    "    for firm in sorted(nonmerging_firms):\n",
    "        post_elasticity[firm, firm] = x[counter]\n",
    "        counter +=1\n",
    "    for firm in sorted(merging_firms):\n",
    "        for other_firm in sorted(merging_firms):\n",
    "            post_elasticity[firm, other_firm] = x[counter]\n",
    "            counter +=1\n",
    "    return vector_function(post_marketshare,post_elasticity,post_margin,price_change)\n",
    "\n",
    "def unwrap(x):   # once we have the equilibrium solution as a vector x, we go back to dictionaries\n",
    "    counter = 0  # as they are easier to work with\n",
    "    for dict in [post_marketshare,post_margin,price_change]:\n",
    "        for firm in sorted(firms):\n",
    "            dict[firm] = x[counter]\n",
    "            counter +=1\n",
    "    for firm in sorted(nonmerging_firms):\n",
    "        post_elasticity[firm, firm] = x[counter]\n",
    "        counter +=1\n",
    "    for firm in sorted(merging_firms):\n",
    "        for other_firm in sorted(merging_firms):\n",
    "            post_elasticity[firm, other_firm] = x[counter]\n",
    "            counter +=1\n",
    "    return [post_marketshare,post_elasticity,post_margin,price_change]"
   ]
  },
  {
   "cell_type": "markdown",
   "id": "371d2dec",
   "metadata": {},
   "source": [
    "The solver needs an initial guess for the post merger solution. We use the pre-merger values as initial guess."
   ]
  },
  {
   "cell_type": "code",
   "execution_count": 10,
   "id": "53fe164c",
   "metadata": {},
   "outputs": [],
   "source": [
    "def initial_value(): # initial value based on before merger values\n",
    "    x = []\n",
    "    for dict in [market_share,margin]:\n",
    "        for firm in sorted(firms):\n",
    "            x.append(dict[firm])\n",
    "    for firm in sorted(firms):\n",
    "        x.append(0.0) # price change\n",
    "    for firm in sorted(nonmerging_firms):\n",
    "        x.append(elasticity[firm, firm])\n",
    "    for firm in sorted(merging_firms):\n",
    "        for other_firm in sorted(merging_firms):\n",
    "            x.append(elasticity[firm, other_firm])\n",
    "    return x"
   ]
  },
  {
   "cell_type": "markdown",
   "id": "7d71f67c",
   "metadata": {},
   "source": [
    "We use the `fsolve` routine to find the values where `vector_function` equals 0 (i.e., where all equations hold). We solve this via `wrapper_function` as `fsolve` expects a vector $x$ as input (not a list of dictionaries). We print the relevant post merger values in a table."
   ]
  },
  {
   "cell_type": "code",
   "execution_count": 11,
   "id": "72fa341d",
   "metadata": {},
   "outputs": [
    {
     "name": "stdout",
     "output_type": "stream",
     "text": [
      "table of post merger outcomes:\n"
     ]
    },
    {
     "data": {
      "text/html": [
       "<table><tr><td>firm</td><td>marketshare</td><td>margin</td><td>price increase</td></tr><tr><td>firm1</td><td>0.174</td><td>0.414</td><td>0.138</td></tr><tr><td>firm2</td><td>0.281</td><td>0.425</td><td>0.108</td></tr><tr><td>firm3</td><td>0.546</td><td>0.466</td><td>0.041</td></tr></table>"
      ],
      "text/plain": [
       "[['firm', 'marketshare', 'margin', 'price increase'],\n",
       " ['firm1', '0.174', '0.414', '0.138'],\n",
       " ['firm2', '0.281', '0.425', '0.108'],\n",
       " ['firm3', '0.546', '0.466', '0.041']]"
      ]
     },
     "execution_count": 11,
     "metadata": {},
     "output_type": "execute_result"
    }
   ],
   "source": [
    "# define a function for after merger values:\n",
    "def after_merger_values():\n",
    "    outcome = unwrap(optimize.fsolve(wrapper_function, initial_value()))\n",
    "    table = ListTable()\n",
    "    table.append(['firm', 'marketshare','margin','price increase'])\n",
    "    for firm in firms:\n",
    "        table.append([firm, \"%0.3f\" % outcome[0][firm],\"%0.3f\" % outcome[2][firm],\"%0.3f\" % outcome[3][firm]])\n",
    "    print(\"table of post merger outcomes:\")\n",
    "    return table\n",
    "\n",
    "# call after merger values function\n",
    "after_merger_values()"
   ]
  },
  {
   "cell_type": "markdown",
   "id": "462c6f55",
   "metadata": {},
   "source": [
    "__Conclusions__:  \n",
    "The results from the estimated model are intuitive. As one would expect, a merger between Firms producing substitutes with no efficiency gains leads to higher prices for all Firms. The market share of the Firm that does not merge (i.e., Firm 3) increases due to the merger, as prices increase more for the merging Firms."
   ]
  },
  {
   "cell_type": "markdown",
   "id": "09e18b4f",
   "metadata": {},
   "source": [
    "The end! :)"
   ]
  }
 ],
 "metadata": {
  "kernelspec": {
   "display_name": "Python 3",
   "language": "python",
   "name": "python3"
  },
  "language_info": {
   "codemirror_mode": {
    "name": "ipython",
    "version": 3
   },
   "file_extension": ".py",
   "mimetype": "text/x-python",
   "name": "python",
   "nbconvert_exporter": "python",
   "pygments_lexer": "ipython3",
   "version": "3.8.8"
  }
 },
 "nbformat": 4,
 "nbformat_minor": 5
}
